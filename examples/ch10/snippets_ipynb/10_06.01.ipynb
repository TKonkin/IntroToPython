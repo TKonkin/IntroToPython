{
 "cells": [
  {
   "cell_type": "markdown",
   "metadata": {},
   "source": [
    "## 10.6.1 Test-Driving Classes `Card` and `DeckOfCards` \n",
    "### Creating, Shuffling and Dealing the Cards "
   ]
  },
  {
   "cell_type": "code",
   "execution_count": 1,
   "metadata": {},
   "outputs": [],
   "source": [
    "from deck import DeckOfCards"
   ]
  },
  {
   "cell_type": "code",
   "execution_count": 2,
   "metadata": {},
   "outputs": [],
   "source": [
    "deck_of_cards = DeckOfCards()"
   ]
  },
  {
   "cell_type": "code",
   "execution_count": 3,
   "metadata": {},
   "outputs": [
    {
     "name": "stdout",
     "output_type": "stream",
     "text": [
      "Ace of Hearts      2 of Hearts        3 of Hearts        4 of Hearts        \n",
      "5 of Hearts        6 of Hearts        7 of Hearts        8 of Hearts        \n",
      "9 of Hearts        10 of Hearts       Jack of Hearts     Queen of Hearts    \n",
      "King of Hearts     Ace of Diamonds    2 of Diamonds      3 of Diamonds      \n",
      "4 of Diamonds      5 of Diamonds      6 of Diamonds      7 of Diamonds      \n",
      "8 of Diamonds      9 of Diamonds      10 of Diamonds     Jack of Diamonds   \n",
      "Queen of Diamonds  King of Diamonds   Ace of Clubs       2 of Clubs         \n",
      "3 of Clubs         4 of Clubs         5 of Clubs         6 of Clubs         \n",
      "7 of Clubs         8 of Clubs         9 of Clubs         10 of Clubs        \n",
      "Jack of Clubs      Queen of Clubs     King of Clubs      Ace of Spades      \n",
      "2 of Spades        3 of Spades        4 of Spades        5 of Spades        \n",
      "6 of Spades        7 of Spades        8 of Spades        9 of Spades        \n",
      "10 of Spades       Jack of Spades     Queen of Spades    King of Spades     \n",
      "\n"
     ]
    }
   ],
   "source": [
    "print(deck_of_cards)"
   ]
  },
  {
   "cell_type": "code",
   "execution_count": 4,
   "metadata": {},
   "outputs": [],
   "source": [
    "deck_of_cards.shuffle()"
   ]
  },
  {
   "cell_type": "code",
   "execution_count": 5,
   "metadata": {},
   "outputs": [
    {
     "name": "stdout",
     "output_type": "stream",
     "text": [
      "Queen of Clubs     6 of Spades        Queen of Hearts    10 of Spades       \n",
      "Jack of Hearts     King of Hearts     2 of Clubs         7 of Hearts        \n",
      "5 of Spades        3 of Spades        3 of Clubs         Ace of Hearts      \n",
      "4 of Clubs         Jack of Clubs      8 of Hearts        King of Clubs      \n",
      "9 of Spades        Jack of Spades     10 of Diamonds     5 of Hearts        \n",
      "6 of Hearts        King of Spades     2 of Spades        6 of Clubs         \n",
      "7 of Diamonds      5 of Clubs         4 of Diamonds      2 of Diamonds      \n",
      "9 of Clubs         7 of Clubs         4 of Spades        Ace of Spades      \n",
      "Ace of Diamonds    Jack of Diamonds   7 of Spades        Queen of Diamonds  \n",
      "8 of Spades        9 of Hearts        King of Diamonds   4 of Hearts        \n",
      "9 of Diamonds      2 of Hearts        3 of Hearts        8 of Diamonds      \n",
      "Ace of Clubs       10 of Clubs        5 of Diamonds      3 of Diamonds      \n",
      "10 of Hearts       8 of Clubs         Queen of Spades    6 of Diamonds      \n",
      "\n"
     ]
    }
   ],
   "source": [
    "print(deck_of_cards)"
   ]
  },
  {
   "cell_type": "markdown",
   "metadata": {},
   "source": [
    "### Dealing Cards"
   ]
  },
  {
   "cell_type": "code",
   "execution_count": 6,
   "metadata": {},
   "outputs": [
    {
     "data": {
      "text/plain": [
       "Card(face='Queen', suit='Clubs')"
      ]
     },
     "execution_count": 6,
     "metadata": {},
     "output_type": "execute_result"
    }
   ],
   "source": [
    "  \n",
    "deck_of_cards.deal_card()"
   ]
  },
  {
   "cell_type": "markdown",
   "metadata": {},
   "source": [
    "### Class Card’s Other Features"
   ]
  },
  {
   "cell_type": "code",
   "execution_count": 7,
   "metadata": {},
   "outputs": [],
   "source": [
    "card = deck_of_cards.deal_card()"
   ]
  },
  {
   "cell_type": "code",
   "execution_count": 8,
   "metadata": {},
   "outputs": [
    {
     "data": {
      "text/plain": [
       "'6 of Spades'"
      ]
     },
     "execution_count": 8,
     "metadata": {},
     "output_type": "execute_result"
    }
   ],
   "source": [
    "str(card)"
   ]
  },
  {
   "cell_type": "code",
   "execution_count": 9,
   "metadata": {},
   "outputs": [
    {
     "data": {
      "text/plain": [
       "'6_of_Spades.png'"
      ]
     },
     "execution_count": 9,
     "metadata": {},
     "output_type": "execute_result"
    }
   ],
   "source": [
    "card.image_name"
   ]
  },
  {
   "cell_type": "code",
   "execution_count": 10,
   "metadata": {},
   "outputs": [],
   "source": [
    "##########################################################################\n",
    "# (C) Copyright 2019 by Deitel & Associates, Inc. and                    #\n",
    "# Pearson Education, Inc. All Rights Reserved.                           #\n",
    "#                                                                        #\n",
    "# DISCLAIMER: The authors and publisher of this book have used their     #\n",
    "# best efforts in preparing the book. These efforts include the          #\n",
    "# development, research, and testing of the theories and programs        #\n",
    "# to determine their effectiveness. The authors and publisher make       #\n",
    "# no warranty of any kind, expressed or implied, with regard to these    #\n",
    "# programs or to the documentation contained in these books. The authors #\n",
    "# and publisher shall not be liable in any event for incidental or       #\n",
    "# consequential damages in connection with, or arising out of, the       #\n",
    "# furnishing, performance, or use of these programs.                     #\n",
    "##########################################################################\n"
   ]
  }
 ],
 "metadata": {
  "kernelspec": {
   "display_name": ".venv",
   "language": "python",
   "name": "python3"
  },
  "language_info": {
   "codemirror_mode": {
    "name": "ipython",
    "version": 3
   },
   "file_extension": ".py",
   "mimetype": "text/x-python",
   "name": "python",
   "nbconvert_exporter": "python",
   "pygments_lexer": "ipython3",
   "version": "3.13.1"
  }
 },
 "nbformat": 4,
 "nbformat_minor": 2
}
